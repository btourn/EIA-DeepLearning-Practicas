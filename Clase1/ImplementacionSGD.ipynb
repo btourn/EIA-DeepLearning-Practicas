{
  "nbformat": 4,
  "nbformat_minor": 0,
  "metadata": {
    "colab": {
      "name": "ImplementacionSGD.ipynb",
      "provenance": [],
      "collapsed_sections": []
    },
    "kernelspec": {
      "name": "python3",
      "display_name": "Python 3"
    },
    "language_info": {
      "name": "python"
    }
  },
  "cells": [
    {
      "cell_type": "markdown",
      "source": [
        "# Implementación de SGD para la función XOR"
      ],
      "metadata": {
        "id": "gQsMAUWoFnml"
      }
    },
    {
      "cell_type": "code",
      "execution_count": 330,
      "metadata": {
        "id": "sRfS3ngZFO94"
      },
      "outputs": [],
      "source": [
        "import numpy as np\n",
        "import matplotlib.pyplot as plt"
      ]
    },
    {
      "cell_type": "markdown",
      "source": [
        "## Función sigmoidea"
      ],
      "metadata": {
        "id": "Xvj9kcvVJ3F0"
      }
    },
    {
      "cell_type": "code",
      "source": [
        "def sigmoid(x):\n",
        "  return 1/(1+np.exp(-x))"
      ],
      "metadata": {
        "id": "Ty8RtB5VJ2Bv"
      },
      "execution_count": 331,
      "outputs": []
    },
    {
      "cell_type": "markdown",
      "source": [
        "## Función de pérdida"
      ],
      "metadata": {
        "id": "kLVPBn5NUbEF"
      }
    },
    {
      "cell_type": "code",
      "source": [
        "def loss(y, y_pred):\n",
        "  diff = y - y_pred\n",
        "  return np.mean(diff**2)"
      ],
      "metadata": {
        "id": "SHRd925LUdDz"
      },
      "execution_count": 332,
      "outputs": []
    },
    {
      "cell_type": "markdown",
      "source": [
        "## Función de predicción"
      ],
      "metadata": {
        "id": "ioKLM0UTUFFk"
      }
    },
    {
      "cell_type": "code",
      "source": [
        "def predict(x, w):\n",
        "  \n",
        "  # Reordeno vector de parametros como matriz de 3x3, donde cada columna contiene los parámetro de cada neurona\n",
        "  W = np.reshape(w, (3, 3)).T\n",
        "\n",
        "  # Calculo z para las neuronas de la capa 1\n",
        "  z_L1 = x @ W[:, :-1]\n",
        "  # Calculo la salida para las neuronas de la capa 1 (incluyendo termino independiente)\n",
        "  a_L1 = np.append(sigmoid(z_L1), np.array([1]))\n",
        "\n",
        "  # Calculo salida de la neurona de la capa 2\n",
        "  z_L2 = np.dot(a_L1, W[:, -1]) #Prediccion para la i-esima fila del dataset\n",
        "\n",
        "  return [z_L2, a_L1, z_L1, W]"
      ],
      "metadata": {
        "id": "iZ75yVgsUG7_"
      },
      "execution_count": 333,
      "outputs": []
    },
    {
      "cell_type": "code",
      "source": [
        "y_true=.23434445\n",
        "x=np.array([2, 5, 1])\n",
        "w=np.random.rand(9)\n",
        "fwd = predict(x,w)\n",
        "print(fwd)"
      ],
      "metadata": {
        "colab": {
          "base_uri": "https://localhost:8080/"
        },
        "id": "ODg-hVD5Vp19",
        "outputId": "a0c25009-8434-43f8-e956-8947dcbe6492"
      },
      "execution_count": 334,
      "outputs": [
        {
          "output_type": "stream",
          "name": "stdout",
          "text": [
            "[1.399117503840827, array([0.99830058, 0.83082487, 1.        ]), array([6.37576513, 1.59148455]), array([[0.42435961, 0.53282604, 0.50202957],\n",
            "       [0.96092629, 0.08806497, 0.31849534],\n",
            "       [0.72241445, 0.08550763, 0.63332725]])]\n"
          ]
        }
      ]
    },
    {
      "cell_type": "markdown",
      "source": [
        "## Función para calcular el gradiente de la función de perdida respecto a los parámetros del modelo"
      ],
      "metadata": {
        "id": "zk0ITX6DULYV"
      }
    },
    {
      "cell_type": "code",
      "source": [
        "def gradient(x, err, pred_vars):\n",
        "  # Derivada de loss respecto a la y_pred\n",
        "  dL_dypred = -2*err\n",
        "  z_L2, a_L1, z_L1, W = pred_vars[0], pred_vars[1], pred_vars[2], pred_vars[3]\n",
        "  \n",
        "  # Derivada respecto a los parámetros de la capa L2\n",
        "  dL_w2b2 = dL_dypred*a_L1\n",
        "\n",
        "  # Derivada respecto a los parámetros de la capa L1\n",
        "  dypred_da1 = W[0:2, -1]\n",
        "  da1_dz1 = sigmoid(z_L1)*(1-sigmoid(z_L1))\n",
        "  dypred_dz1 = dypred_da1*da1_dz1\n",
        "  dL_w1b1 = dL_dypred*np.tensordot(x, dypred_dz1, axes=0)\n",
        "\n",
        "  # Gradiente\n",
        "  gradJ = np.reshape(dL_w1b1.T, (6,)) #Primero debo trasponer para que la salida sea el apilamiento de las columnas de la matriz\n",
        "  gradJ = np.append(gradJ, dL_w2b2)\n",
        "  \n",
        "  return gradJ"
      ],
      "metadata": {
        "id": "ESxHOu9rUO4I"
      },
      "execution_count": 335,
      "outputs": []
    },
    {
      "cell_type": "code",
      "source": [
        "grad1 = gradient(x,y_true-fwd[0],fwd)\n",
        "print(grad1)"
      ],
      "metadata": {
        "colab": {
          "base_uri": "https://localhost:8080/"
        },
        "id": "nQWkr9tAWt14",
        "outputId": "cb4eaf00-d86f-4385-a8d2-852ce944a9a9"
      },
      "execution_count": 336,
      "outputs": [
        {
          "output_type": "stream",
          "name": "stdout",
          "text": [
            "[3.96820078e-03 9.92050196e-03 1.98410039e-03 2.08569306e-01\n",
            " 5.21423266e-01 1.04284653e-01 2.32558722e+00 1.93544483e+00\n",
            " 2.32954611e+00]\n"
          ]
        }
      ]
    },
    {
      "cell_type": "markdown",
      "source": [
        "## Derivada numerica"
      ],
      "metadata": {
        "id": "mHMHJaxS8X9I"
      }
    },
    {
      "cell_type": "code",
      "source": [
        "def NumDiff(y, y_pred0, x, w0):\n",
        "  nw = len(w0)\n",
        "  dw = 1e-6\n",
        "  f0 = loss(y, y_pred0)\n",
        "  grad = []\n",
        "  for i in range(nw):\n",
        "    w = np.copy(w0)\n",
        "    w[i] = w[i] + dw\n",
        "    pred = predict(x, w)\n",
        "    y_pred = pred[0]\n",
        "    f = loss(y, y_pred)\n",
        "    df_dw = (f-f0)/dw\n",
        "    grad.append(df_dw)\n",
        "\n",
        "  return np.asarray(grad)\n"
      ],
      "metadata": {
        "id": "Dy9pst868aJ8"
      },
      "execution_count": 337,
      "outputs": []
    },
    {
      "cell_type": "code",
      "source": [
        "grad2 = NumDiff(y_true, fwd[0], x, w)\n",
        "print(grad2)"
      ],
      "metadata": {
        "colab": {
          "base_uri": "https://localhost:8080/"
        },
        "id": "Al7X4I3-_L3x",
        "outputId": "7ed14519-b8d1-4bdd-8dad-83c1616eb380"
      },
      "execution_count": 338,
      "outputs": [
        {
          "output_type": "stream",
          "name": "stdout",
          "text": [
            "[3.96819710e-03 9.92047711e-03 1.98409933e-03 2.08569176e-01\n",
            " 5.21422453e-01 1.04284621e-01 2.32558822e+00 1.93544552e+00\n",
            " 2.32954711e+00]\n"
          ]
        }
      ]
    },
    {
      "cell_type": "markdown",
      "source": [
        "## Comprobación entre derivada numérica y derivada calculada por diferenciacion automática"
      ],
      "metadata": {
        "id": "qi7l7vUWpfP0"
      }
    },
    {
      "cell_type": "code",
      "source": [
        "grad1/grad2"
      ],
      "metadata": {
        "colab": {
          "base_uri": "https://localhost:8080/"
        },
        "id": "YrHKL-Pxpe7-",
        "outputId": "a6be9fc5-18bc-4c0c-836c-f80cc44f7cc0"
      },
      "execution_count": 339,
      "outputs": [
        {
          "output_type": "execute_result",
          "data": {
            "text/plain": [
              "array([1.00000093, 1.00000251, 1.00000054, 1.00000062, 1.00000156,\n",
              "       1.00000031, 0.99999957, 0.99999964, 0.99999957])"
            ]
          },
          "metadata": {},
          "execution_count": 339
        }
      ]
    },
    {
      "cell_type": "markdown",
      "source": [
        "## Algortimo SGD"
      ],
      "metadata": {
        "id": "KZhc8yGgUTe-"
      }
    },
    {
      "cell_type": "code",
      "source": [
        "def sgd(X, y, w, lr, epochs):\n",
        "  N, d = X.shape\n",
        "  MSE = []\n",
        "  for i in range(epochs):\n",
        "    y_pred = np.empty((N,))\n",
        "    for j in range(N):\n",
        "      # Selecciono fila j del dataset\n",
        "      x_j = X[j,:]\n",
        "      # Selecciono componente y de la variable target\n",
        "      y_j = y[j]\n",
        "      # Paso forward utilizando la fila j\n",
        "      pred_vars = predict(x_j, w)\n",
        "      y_pred_j = pred_vars[0]\n",
        "      y_pred[j] = y_pred_j\n",
        "      # Calculo del residuo\n",
        "      err_j = y_j - y_pred_j\n",
        "      # Paso backpropagation\n",
        "      gradJ = gradient(x_j, err_j, pred_vars)\n",
        "      # Derivada numérica\n",
        "      gradJ2 = NumDiff(y_j, y_pred_j, x_j, w) \n",
        "      # Comparacion backprop y derivada numerica\n",
        "      #print(\"Derivada computada por backpropagation:\", gradJ)\n",
        "      #print(\"Derivada computada por diferencias finitas:\", gradJ2)\n",
        "      #print(\"Relación entre las derivadas:\", gradJ/gradJ2)\n",
        "      # Actualizacion de pesos\n",
        "      w = w - lr*gradJ\n",
        "      \n",
        "    mse = loss(y, y_pred)\n",
        "    MSE.append(mse)\n",
        "    print(\"Epoch:\", i, \"MSE:\", mse)\n",
        "\n",
        "  return w, MSE"
      ],
      "metadata": {
        "id": "KGczDTmoavoz"
      },
      "execution_count": 340,
      "outputs": []
    },
    {
      "cell_type": "markdown",
      "source": [
        "## Main - Minimización utilizando SGD en el problema de ajuste a la función XOR"
      ],
      "metadata": {
        "id": "MstP4mNfbEv1"
      }
    },
    {
      "cell_type": "code",
      "source": [
        "# Dataset\n",
        "X = np.array([[0, 0],\n",
        "              [0, 1],\n",
        "              [1, 0],\n",
        "              [1, 1]])\n",
        "\n",
        "N, d = X.shape\n",
        "\n",
        "# Agrego columna de unos\n",
        "X = np.append(X, np.ones((N,1)), axis=1)\n",
        "\n",
        "# Variable target\n",
        "y = np.array([0, 1, 1, 0])\n",
        "\n",
        "# Arquitectura de la ANN\n",
        "n_layers = 2\n",
        "neuronas_L1 = 2\n",
        "neuronas_L2 = 1\n",
        "\n",
        "# Hiperparámetros del modelo\n",
        "learningRates = [0.01, 0.1, 1, 5, 10] # Learning rates\n",
        "epochs = 100 # N° de iteraciones máximas de SGD\n",
        "\n",
        "# Inicializacion random de los parámetros del modelo\n",
        "n_param = 9\n",
        "w0 = np.random.rand(n_param)\n",
        "\n",
        "# Llamada al algoritmo de Stochastic Gradient Descent\n",
        "w, MSE = sgd(X, y, w0, 0.001, epochs)\n",
        "\n",
        "#for lr in learningRates:\n",
        "   #w, MSE = sgd(X, y, lr, epochs)"
      ],
      "metadata": {
        "id": "mTTj4EkjUVUB",
        "colab": {
          "base_uri": "https://localhost:8080/"
        },
        "outputId": "6440ee57-0a18-4ce3-e562-8582ac720221"
      },
      "execution_count": 341,
      "outputs": [
        {
          "output_type": "stream",
          "name": "stdout",
          "text": [
            "Epoch: 0 MSE: 0.24929937614343795\n",
            "Epoch: 1 MSE: 0.24927003445887674\n",
            "Epoch: 2 MSE: 0.2492416927782107\n",
            "Epoch: 3 MSE: 0.24921431643580383\n",
            "Epoch: 4 MSE: 0.2491878719661473\n",
            "Epoch: 5 MSE: 0.24916232706231853\n",
            "Epoch: 6 MSE: 0.24913765053587955\n",
            "Epoch: 7 MSE: 0.2491138122781627\n",
            "Epoch: 8 MSE: 0.24909078322289938\n",
            "Epoch: 9 MSE: 0.24906853531014117\n",
            "Epoch: 10 MSE: 0.24904704145143103\n",
            "Epoch: 11 MSE: 0.2490262754961808\n",
            "Epoch: 12 MSE: 0.24900621219921248\n",
            "Epoch: 13 MSE: 0.2489868271894233\n",
            "Epoch: 14 MSE: 0.24896809693953637\n",
            "Epoch: 15 MSE: 0.24894999873689788\n",
            "Epoch: 16 MSE: 0.24893251065528574\n",
            "Epoch: 17 MSE: 0.24891561152769381\n",
            "Epoch: 18 MSE: 0.24889928092005853\n",
            "Epoch: 19 MSE: 0.2488834991058954\n",
            "Epoch: 20 MSE: 0.24886824704181218\n",
            "Epoch: 21 MSE: 0.248853506343871\n",
            "Epoch: 22 MSE: 0.2488392592647679\n",
            "Epoch: 23 MSE: 0.24882548867180249\n",
            "Epoch: 24 MSE: 0.24881217802560973\n",
            "Epoch: 25 MSE: 0.24879931135962824\n",
            "Epoch: 26 MSE: 0.24878687326027887\n",
            "Epoch: 27 MSE: 0.24877484884782905\n",
            "Epoch: 28 MSE: 0.24876322375791993\n",
            "Epoch: 29 MSE: 0.24875198412373212\n",
            "Epoch: 30 MSE: 0.24874111655876913\n",
            "Epoch: 31 MSE: 0.24873060814023576\n",
            "Epoch: 32 MSE: 0.24872044639299287\n",
            "Epoch: 33 MSE: 0.2487106192740657\n",
            "Epoch: 34 MSE: 0.24870111515769\n",
            "Epoch: 35 MSE: 0.24869192282087396\n",
            "Epoch: 36 MSE: 0.2486830314294607\n",
            "Epoch: 37 MSE: 0.2486744305246727\n",
            "Epoch: 38 MSE: 0.2486661100101215\n",
            "Epoch: 39 MSE: 0.248658060139267\n",
            "Epoch: 40 MSE: 0.24865027150331132\n",
            "Epoch: 41 MSE: 0.24864273501950956\n",
            "Epoch: 42 MSE: 0.24863544191988743\n",
            "Epoch: 43 MSE: 0.24862838374034724\n",
            "Epoch: 44 MSE: 0.2486215523101518\n",
            "Epoch: 45 MSE: 0.24861493974177157\n",
            "Epoch: 46 MSE: 0.24860853842108344\n",
            "Epoch: 47 MSE: 0.24860234099790834\n",
            "Epoch: 48 MSE: 0.2485963403768761\n",
            "Epoch: 49 MSE: 0.24859052970860673\n",
            "Epoch: 50 MSE: 0.248584902381196\n",
            "Epoch: 51 MSE: 0.2485794520119964\n",
            "Epoch: 52 MSE: 0.2485741724396818\n",
            "Epoch: 53 MSE: 0.24856905771658705\n",
            "Epoch: 54 MSE: 0.24856410210131197\n",
            "Epoch: 55 MSE: 0.248559300051582\n",
            "Epoch: 56 MSE: 0.24855464621735485\n",
            "Epoch: 57 MSE: 0.2485501354341666\n",
            "Epoch: 58 MSE: 0.248545762716707\n",
            "Epoch: 59 MSE: 0.2485415232526177\n",
            "Epoch: 60 MSE: 0.24853741239650473\n",
            "Epoch: 61 MSE: 0.2485334256641581\n",
            "Epoch: 62 MSE: 0.24852955872697152\n",
            "Epoch: 63 MSE: 0.24852580740655472\n",
            "Epoch: 64 MSE: 0.24852216766953267\n",
            "Epoch: 65 MSE: 0.2485186356225242\n",
            "Epoch: 66 MSE: 0.2485152075072949\n",
            "Epoch: 67 MSE: 0.24851187969607702\n",
            "Epoch: 68 MSE: 0.24850864868705172\n",
            "Epoch: 69 MSE: 0.24850551109998764\n",
            "Epoch: 70 MSE: 0.24850246367202988\n",
            "Epoch: 71 MSE: 0.24849950325363507\n",
            "Epoch: 72 MSE: 0.2484966268046469\n",
            "Epoch: 73 MSE: 0.24849383139050774\n",
            "Epoch: 74 MSE: 0.24849111417860034\n",
            "Epoch: 75 MSE: 0.24848847243471728\n",
            "Epoch: 76 MSE: 0.24848590351965222\n",
            "Epoch: 77 MSE: 0.24848340488590814\n",
            "Epoch: 78 MSE: 0.24848097407452086\n",
            "Epoch: 79 MSE: 0.24847860871199165\n",
            "Epoch: 80 MSE: 0.2484763065073259\n",
            "Epoch: 81 MSE: 0.2484740652491746\n",
            "Epoch: 82 MSE: 0.24847188280307467\n",
            "Epoch: 83 MSE: 0.24846975710878452\n",
            "Epoch: 84 MSE: 0.2484676861777121\n",
            "Epoch: 85 MSE: 0.24846566809043133\n",
            "Epoch: 86 MSE: 0.24846370099428566\n",
            "Epoch: 87 MSE: 0.2484617831010732\n",
            "Epoch: 88 MSE: 0.248459912684813\n",
            "Epoch: 89 MSE: 0.24845808807958764\n",
            "Epoch: 90 MSE: 0.24845630767746155\n",
            "Epoch: 91 MSE: 0.24845456992647053\n",
            "Epoch: 92 MSE: 0.248452873328681\n",
            "Epoch: 93 MSE: 0.2484512164383171\n",
            "Epoch: 94 MSE: 0.24844959785995163\n",
            "Epoch: 95 MSE: 0.24844801624675977\n",
            "Epoch: 96 MSE: 0.24844647029883438\n",
            "Epoch: 97 MSE: 0.24844495876155762\n",
            "Epoch: 98 MSE: 0.24844348042403094\n",
            "Epoch: 99 MSE: 0.24844203411755794\n"
          ]
        }
      ]
    },
    {
      "cell_type": "code",
      "source": [
        "# Comparacion parametros originales vs parametros ajustados\n",
        "print(\"Parámetros originales:\", w0)\n",
        "print(\"Parámetros aprendidos:\", w)\n",
        "\n",
        "# Prediccion\n",
        "y_pred = []\n",
        "for i in range(N):\n",
        "  pred_i = predict(X[i, :], w)\n",
        "  y_pred_i = pred_i[0]\n",
        "  y_pred.append(y_pred_i)\n",
        "\n",
        "print(\"Salida real:\", y.flatten())\n",
        "print(\"Predicción:\", y_pred)"
      ],
      "metadata": {
        "colab": {
          "base_uri": "https://localhost:8080/"
        },
        "id": "QDPnvWVhlSAJ",
        "outputId": "20689198-3818-47c1-954f-1e2a8d91d885"
      },
      "execution_count": 342,
      "outputs": [
        {
          "output_type": "stream",
          "name": "stdout",
          "text": [
            "Parámetros originales: [0.35666925 0.38695905 0.98264495 0.50095065 0.93408022 0.38840217\n",
            " 0.08445799 0.57449569 0.03723174]\n",
            "Parámetros aprendidos: [0.35676897 0.38691247 0.98257136 0.50473636 0.93471887 0.38916567\n",
            " 0.07520651 0.56594594 0.02643231]\n",
            "Salida real: [0 1 1 0]\n",
            "Predicción: [0.41850402137031373, 0.533393746463606, 0.4876734155802524, 0.5778950797348156]\n"
          ]
        }
      ]
    },
    {
      "cell_type": "code",
      "source": [
        "# Grafica\n",
        "plt.plot(np.arange(epochs), MSE)\n",
        "plt.show()"
      ],
      "metadata": {
        "colab": {
          "base_uri": "https://localhost:8080/",
          "height": 265
        },
        "id": "WBphtE1Hs7mZ",
        "outputId": "6fc1a9f8-6c55-45ad-ee67-af316b294941"
      },
      "execution_count": 343,
      "outputs": [
        {
          "output_type": "display_data",
          "data": {
            "text/plain": [
              "<Figure size 432x288 with 1 Axes>"
            ],
            "image/png": "[encoded data removed]"
          },
          "metadata": {
            "needs_background": "light"
          }
        }
      ]
    },
    {
      "cell_type": "code",
      "source": [
        ""
      ],
      "metadata": {
        "id": "POCdBQyUtbHb"
      },
      "execution_count": 343,
      "outputs": []
    }
  ]
}