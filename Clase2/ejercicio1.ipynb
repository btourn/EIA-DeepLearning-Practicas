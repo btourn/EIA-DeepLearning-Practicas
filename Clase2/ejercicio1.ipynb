{
 "cells": [
  {
   "cell_type": "code",
   "execution_count": 5,
   "metadata": {},
   "outputs": [],
   "source": [
    "import numpy as np"
   ]
  },
  {
   "cell_type": "markdown",
   "metadata": {},
   "source": [
    "Función para computar el valor de la función dada y su gradiente en el punto considerado"
   ]
  },
  {
   "cell_type": "code",
   "execution_count": 6,
   "metadata": {},
   "outputs": [],
   "source": [
    "def fun(x, grad=False):\n",
    "    y = -(x-2)**2 + 3\n",
    "    dy_dx = []\n",
    "    if grad:\n",
    "        dy_dx = -2*(x-2)\n",
    "\n",
    "    return y, dy_dx"
   ]
  },
  {
   "cell_type": "markdown",
   "metadata": {},
   "source": [
    "### Algoritmo de minimización"
   ]
  },
  {
   "cell_type": "markdown",
   "metadata": {},
   "source": [
    "Hiperparámetros del algoritmo"
   ]
  },
  {
   "cell_type": "code",
   "execution_count": 7,
   "metadata": {},
   "outputs": [],
   "source": [
    "lr = 0.1\n",
    "epochs = 500\n",
    "tol = 1e-6\n",
    "x0 = float(np.random.uniform(low=-10, high=10))"
   ]
  },
  {
   "cell_type": "markdown",
   "metadata": {},
   "source": [
    "Cuerpo del algoritmo"
   ]
  },
  {
   "cell_type": "code",
   "execution_count": 8,
   "metadata": {},
   "outputs": [
    {
     "name": "stdout",
     "output_type": "stream",
     "text": [
      "Epoch: 0 ; x: 4.528295318280039 ; f: -6.987933150682439 ; gradf: -6.320738295700096\n",
      "Epoch: 1 ; x: 4.022636254624031 ; f: -3.3922772164367627 ; gradf: -5.0565906365600775\n",
      "Epoch: 2 ; x: 3.6181090036992245 ; f: -1.0910574185195268 ; gradf: -4.045272509248061\n",
      "Epoch: 3 ; x: 3.2944872029593797 ; f: 0.3817232521475029 ; gradf: -3.236218007398449\n",
      "Epoch: 4 ; x: 3.0355897623675037 ; f: 1.3243028813744018 ; gradf: -2.5889744059187594\n",
      "Epoch: 5 ; x: 2.828471809894003 ; f: 1.9275538440796174 ; gradf: -2.0711795247350073\n",
      "Epoch: 6 ; x: 2.6627774479152024 ; f: 2.313634460210955 ; gradf: -1.6569436197880059\n",
      "Epoch: 7 ; x: 2.530221958332162 ; f: 2.560726054535011 ; gradf: -1.3255548958304049\n",
      "Epoch: 8 ; x: 2.4241775666657297 ; f: 2.718864674902407 ; gradf: -1.0604439166643242\n",
      "Epoch: 9 ; x: 2.339342053332584 ; f: 2.8200733919375405 ; gradf: -0.8483551333314594\n",
      "Epoch: 10 ; x: 2.2714736426660673 ; f: 2.8848469708400257 ; gradf: -0.6786841066651679\n",
      "Epoch: 11 ; x: 2.217178914132854 ; f: 2.9263020613376165 ; gradf: -0.5429472853321347\n",
      "Epoch: 12 ; x: 2.173743131306283 ; f: 2.9528333192560745 ; gradf: -0.4343578282657079\n",
      "Epoch: 13 ; x: 2.1389945050450265 ; f: 2.9698133243238876 ; gradf: -0.3474862626125663\n",
      "Epoch: 14 ; x: 2.111195604036021 ; f: 2.980680527567288 ; gradf: -0.27798901009005306\n",
      "Epoch: 15 ; x: 2.088956483228817 ; f: 2.9876355376430643 ; gradf: -0.22239120807204227\n",
      "Epoch: 16 ; x: 2.0711651865830536 ; f: 2.9920867440915613 ; gradf: -0.177912966457634\n",
      "Epoch: 17 ; x: 2.056932149266443 ; f: 2.9949355162185993 ; gradf: -0.1423303731661072\n",
      "Epoch: 18 ; x: 2.0455457194131546 ; f: 2.9967587303799035 ; gradf: -0.11386429853288593\n",
      "Epoch: 19 ; x: 2.036436575530524 ; f: 2.997925587443138 ; gradf: -0.0910914388263091\n",
      "Epoch: 20 ; x: 2.0291492604244192 ; f: 2.9986723759636082 ; gradf: -0.07287315106104764\n",
      "Epoch: 21 ; x: 2.0233194083395354 ; f: 2.9991503206167094 ; gradf: -0.058298520848838464\n",
      "Epoch: 22 ; x: 2.0186555266716284 ; f: 2.999456205194694 ; gradf: -0.04663881667907077\n",
      "Epoch: 23 ; x: 2.0149244213373025 ; f: 2.9996519713246044 ; gradf: -0.037311053343256795\n",
      "Epoch: 24 ; x: 2.011939537069842 ; f: 2.9997772616477465 ; gradf: -0.02984884267460508\n",
      "Epoch: 25 ; x: 2.0095516296558733 ; f: 2.999857447454558 ; gradf: -0.02387907413968371\n",
      "Epoch: 26 ; x: 2.0076413037246987 ; f: 2.999908766370917 ; gradf: -0.019103259311746612\n",
      "Epoch: 27 ; x: 2.006113042979759 ; f: 2.999941610477387 ; gradf: -0.015282607449397467\n",
      "Epoch: 28 ; x: 2.004890434383807 ; f: 2.999962630705528 ; gradf: -0.012226085959517796\n",
      "Epoch: 29 ; x: 2.003912347507046 ; f: 2.999976083651538 ; gradf: -0.009780868767614415\n",
      "Epoch: 30 ; x: 2.0031298780056366 ; f: 2.9999846935369843 ; gradf: -0.007824695014091887\n",
      "Epoch: 31 ; x: 2.0025039024045093 ; f: 2.99999020386367 ; gradf: -0.006259756011273154\n",
      "Epoch: 32 ; x: 2.0020031219236074 ; f: 2.999993730472749 ; gradf: -0.005007804809018523\n",
      "Epoch: 33 ; x: 2.0016024975388857 ; f: 2.999995987502559 ; gradf: -0.004006243847214819\n",
      "Epoch: 34 ; x: 2.0012819980311085 ; f: 2.999997432001638 ; gradf: -0.0032049950777714997\n",
      "Epoch: 35 ; x: 2.001025598424887 ; f: 2.9999983564810484 ; gradf: -0.002563996062217022\n",
      "Epoch: 36 ; x: 2.0008204787399095 ; f: 2.999998948147871 ; gradf: -0.0020511968497736177\n",
      "Epoch: 37 ; x: 2.0006563829919277 ; f: 2.9999993268146374 ; gradf: -0.0016409574798190718\n",
      "Epoch: 38 ; x: 2.000525106393542 ; f: 2.999999569161368 ; gradf: -0.001312765983855435\n",
      "Epoch: 39 ; x: 2.0004200851148335 ; f: 2.9999997242632754 ; gradf: -0.0010502127870841704\n",
      "Epoch: 40 ; x: 2.0003360680918667 ; f: 2.9999998235284964 ; gradf: -0.0008401702296669811\n",
      "Epoch: 41 ; x: 2.0002688544734935 ; f: 2.999999887058238 ; gradf: -0.0006721361837334072\n",
      "Epoch: 42 ; x: 2.000215083578795 ; f: 2.999999927717272 ; gradf: -0.0005377089469869034\n",
      "Epoch: 43 ; x: 2.000172066863036 ; f: 2.9999999537390543 ; gradf: -0.00043016715758970037\n",
      "Epoch: 44 ; x: 2.000137653490429 ; f: 2.9999999703929947 ; gradf: -0.00034413372607211556\n",
      "Epoch: 45 ; x: 2.0001101227923432 ; f: 2.9999999810515168 ; gradf: -0.0002753069808578701\n",
      "Epoch: 46 ; x: 2.0000880982338747 ; f: 2.9999999878729704 ; gradf: -0.0002202455846864737\n",
      "Epoch: 47 ; x: 2.0000704785870997 ; f: 2.9999999922387013 ; gradf: -0.0001761964677493566\n",
      "Epoch: 48 ; x: 2.00005638286968 ; f: 2.999999995032769 ; gradf: -0.00014095717419948528\n",
      "Epoch: 49 ; x: 2.000045106295744 ; f: 2.999999996820972 ; gradf: -0.00011276573935958822\n",
      "Epoch: 50 ; x: 2.0000360850365952 ; f: 2.999999997965422 ; gradf: -9.021259148767058e-05\n",
      "Epoch: 51 ; x: 2.0000288680292764 ; f: 2.99999999869787 ; gradf: -7.217007319049173e-05\n",
      "Epoch: 52 ; x: 2.000023094423421 ; f: 2.999999999166637 ; gradf: -5.773605855274866e-05\n",
      "Epoch: 53 ; x: 2.000018475538737 ; f: 2.9999999994666475 ; gradf: -4.618884684237656e-05\n",
      "Epoch: 54 ; x: 2.00001478043099 ; f: 2.9999999996586544 ; gradf: -3.695107747425652e-05\n",
      "Epoch: 55 ; x: 2.0000118243447917 ; f: 2.9999999997815388 ; gradf: -2.9560861979582853e-05\n",
      "Epoch: 56 ; x: 2.0000094594758333 ; f: 2.9999999998601847 ; gradf: -2.3648689583488647e-05\n",
      "Epoch: 57 ; x: 2.0000075675806666 ; f: 2.9999999999105182 ; gradf: -1.8918951666613282e-05\n",
      "Epoch: 58 ; x: 2.0000060540645332 ; f: 2.9999999999427316 ; gradf: -1.513516133311299e-05\n",
      "Epoch: 59 ; x: 2.0000048432516264 ; f: 2.9999999999633484 ; gradf: -1.2108129066490392e-05\n",
      "Epoch: 60 ; x: 2.000003874601301 ; f: 2.9999999999765428 ; gradf: -9.686503252837042e-06\n",
      "Epoch: 61 ; x: 2.0000030996810407 ; f: 2.9999999999849876 ; gradf: -7.749202602269634e-06\n",
      "Epoch: 62 ; x: 2.0000024797448326 ; f: 2.999999999990392 ; gradf: -6.1993620814604355e-06\n",
      "Epoch: 63 ; x: 2.0000019837958662 ; f: 2.9999999999938507 ; gradf: -4.9594896651683484e-06\n",
      "Epoch: 64 ; x: 2.000001587036693 ; f: 2.9999999999960645 ; gradf: -3.96759173248995e-06\n",
      "Epoch: 65 ; x: 2.0000012696293545 ; f: 2.999999999997481 ; gradf: -3.1740733863472315e-06\n",
      "Epoch: 66 ; x: 2.0000010157034835 ; f: 2.999999999998388 ; gradf: -2.539258709077785e-06\n",
      "Epoch: 67 ; x: 2.000000812562787 ; f: 2.9999999999989684 ; gradf: -2.0314069670845925e-06\n",
      "Epoch: 68 ; x: 2.0000006500502296 ; f: 2.9999999999993396 ; gradf: -1.625125573667674e-06\n",
      "Epoch: 69 ; x: 2.000000520040184 ; f: 2.9999999999995772 ; gradf: -1.3001004592894105e-06\n",
      "Epoch: 70 ; x: 2.000000416032147 ; f: 2.9999999999997295 ; gradf: -1.0400803676091641e-06\n",
      "Minimum reached. x: 2.000000416032147 ; Epoch: 71 ; x: 2.000000416032147 ; f: 2.999999999999827 ; gradf: -8.320642939096956e-07\n"
     ]
    }
   ],
   "source": [
    "x = np.copy(x0)\n",
    "for i in range(epochs):\n",
    "    \n",
    "    f, gradf = fun(x, grad=1)\n",
    "    if abs(gradf)<tol:\n",
    "        print(\"Minimum reached. x:\", x, \"; Epoch:\", i, '; x:', x, '; f:', f, '; gradf:', gradf)\n",
    "        break\n",
    "\n",
    "    x = x + lr*gradf\n",
    "\n",
    "    print(\"Epoch:\", i, '; x:', x, '; f:', f, '; gradf:', gradf)\n"
   ]
  },
  {
   "cell_type": "markdown",
   "metadata": {},
   "source": [
    "## Respuestas\n",
    "\n",
    "1. El criterio utilizado para minimizar la función dada (conociendo de antemano que es una función cuadrática y que, por lo tanto el minimo local es un minimo global) implica encontrar el punto para el cual el gradiente de la función se hace cero (hasta una tolerancia aceptable). En caso de tratarse de funciones generales, deberían evaluarse criterios más robustos (conocidos 'Condiciones necesarias de 1er y 2do orden' y 'Condicion de suficiencia de 2do orden').\n",
    "\n",
    "2. El algoritmo cuenta con dos criterios de parada. Uno correspondiente al máximo número de epochs sin encontrar el mínimo, y otro cuando el valor absoluto del gradiente de la función se hace lo suficientemente pequeño (valor definido por el usuario).\n",
    "\n",
    "3. El valor para inicializar el algoritmo tiene una incidencia clave en la convergencia. Cuanto más cerca del mínimo real se ubique más rápido converge.\n",
    "\n",
    "4. Hiperparámetros del modelo: learning rate, epochs, tol, x0.\n",
    "\n",
    "5. Nota: el algoritmo converge en un solo paso cuando el learning rate es 0,5. Esto se debe a que el producto de este valor y la derivada primera devuelve el punto exacto donde la función tiene un extremo."
   ]
  },
  {
   "cell_type": "markdown",
   "metadata": {},
   "source": []
  }
 ],
 "metadata": {
  "interpreter": {
   "hash": "107d7b120a5b68773a87d4067e673630b35702e55ebab3138143d08b1c4d7cbc"
  },
  "kernelspec": {
   "display_name": "Python 3.10.4 64-bit",
   "language": "python",
   "name": "python3"
  },
  "language_info": {
   "codemirror_mode": {
    "name": "ipython",
    "version": 3
   },
   "file_extension": ".py",
   "mimetype": "text/x-python",
   "name": "python",
   "nbconvert_exporter": "python",
   "pygments_lexer": "ipython3",
   "version": "3.10.4"
  },
  "orig_nbformat": 4
 },
 "nbformat": 4,
 "nbformat_minor": 2
}
